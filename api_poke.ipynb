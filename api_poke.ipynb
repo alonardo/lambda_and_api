{
 "cells": [
  {
   "cell_type": "markdown",
   "id": "6d546014",
   "metadata": {},
   "source": [
    "# <strong>Homework</strong>\n",
    "check out this Pokemon API https://pokeapi.co/\n",
    "Use the requests package to connect to this API and get and store data for 5 different pokemon.\n",
    "Get the pokemons: name, atleast one ability's name, base_experience, and the URL for its sprite (an image that shows up on screen) for the 'front_shiny', attack base_state, hp base_stat, defense base_stat"
   ]
  },
  {
   "cell_type": "code",
   "execution_count": null,
   "id": "5a9081e3",
   "metadata": {},
   "outputs": [],
   "source": [
    "import requests, json"
   ]
  },
  {
   "cell_type": "code",
   "execution_count": null,
   "id": "efb5752a",
   "metadata": {},
   "outputs": [],
   "source": [
    "url = 'https://pokeapi.co/api/v2/pokemon/?limit=2000&offset=20%22'"
   ]
  },
  {
   "cell_type": "code",
   "execution_count": null,
   "id": "00fcd36d",
   "metadata": {
    "scrolled": false
   },
   "outputs": [],
   "source": [
    "response = requests.get(url)\n",
    "print(response)\n",
    "response.ok"
   ]
  },
  {
   "cell_type": "code",
   "execution_count": null,
   "id": "480a3649",
   "metadata": {
    "scrolled": false
   },
   "outputs": [],
   "source": [
    "response.json()\n",
    "data = response.json()"
   ]
  },
  {
   "cell_type": "code",
   "execution_count": null,
   "id": "1adec0b5",
   "metadata": {},
   "outputs": [],
   "source": [
    "type(response.json())"
   ]
  },
  {
   "cell_type": "code",
   "execution_count": 56,
   "id": "3b8b3ed7",
   "metadata": {
    "scrolled": true
   },
   "outputs": [
    {
     "name": "stdout",
     "output_type": "stream",
     "text": [
      "\n",
      "                                      ,'    _.----.        ____         ,'  _\\   ___    ___     ____\n",
      "_,-'       `.     |    |  /`.   \\,-'    |   \\  /   |   |    \\  |`.\n",
      "\\      __    \\    '-.  | /   `.  ___    |    \\/    |   '-.   \\ |  |\n",
      " \\.    \\ \\   |  __  |  |/    ,','_  `.  |          | __  |    \\|  |\n",
      "   \\    \\/   /,' _`.|      ,' / / / /   |          ,' _`.|     |  |\n",
      "    \\     ,-'/  /   \\    ,'   | \\/ / ,`.|         /  /   \\  |     |\n",
      "     \\    \\ |   \\_/  |   `-.  \\    `'  /|  |    ||   \\_/  | |\\    |\n",
      "      \\    \\ \\      /       `-.`.___,-' |  |\\  /| \\      /  | |   |\n",
      "       \\    \\ `.__,'|  |`-._    `|      |__| \\/ |  `.__,'|  | |   |\n",
      "        \\_.-'       |__|    `-._ |              '-.|     '-.| |   |\n",
      "                                `'                            '-._|\n",
      "                                \n",
      "    \n",
      "What pokemon would you like to search?\n",
      "ditto\n",
      "normal\n",
      "Ditto is a normal' type of Pokemon. Defeating Ditto will provide its opponent with 101 base experience points if defeated.\n",
      "    Proceed with caution, Ditto can Limber! You can find Ditto's sprite image here: https://raw.githubusercontent.com/PokeAPI/sprites/master/sprites/pokemon/shiny/132.png\n"
     ]
    }
   ],
   "source": [
    "import requests, json\n",
    "\n",
    "\n",
    "def get_poke_info():\n",
    "    print(\"\"\"\n",
    "                                      ,'\\\n",
    "    _.----.        ____         ,'  _\\   ___    ___     ____\n",
    "_,-'       `.     |    |  /`.   \\,-'    |   \\  /   |   |    \\  |`.\n",
    "\\      __    \\    '-.  | /   `.  ___    |    \\/    |   '-.   \\ |  |\n",
    " \\.    \\ \\   |  __  |  |/    ,','_  `.  |          | __  |    \\|  |\n",
    "   \\    \\/   /,' _`.|      ,' / / / /   |          ,' _`.|     |  |\n",
    "    \\     ,-'/  /   \\    ,'   | \\/ / ,`.|         /  /   \\  |     |\n",
    "     \\    \\ |   \\_/  |   `-.  \\    `'  /|  |    ||   \\_/  | |\\    |\n",
    "      \\    \\ \\      /       `-.`.___,-' |  |\\  /| \\      /  | |   |\n",
    "       \\    \\ `.__,'|  |`-._    `|      |__| \\/ |  `.__,'|  | |   |\n",
    "        \\_.-'       |__|    `-._ |              '-.|     '-.| |   |\n",
    "                                `'                            '-._|\n",
    "                                \n",
    "    \"\"\")\n",
    "    name = input('What pokemon would you like to search?\\n').lower()\n",
    "    url = 'https://pokeapi.co/api/v2/pokemon/' + name\n",
    "    name = requests.get(url)\n",
    "    catch_em_all(name)\n",
    "    \n",
    "\n",
    "def catch_em_all(poke):\n",
    "    name = poke.json()['forms'][0]['name'].title()\n",
    "    ability = poke.json()['abilities'][0]['ability']['name'].title()\n",
    "    experience = poke.json()['base_experience']\n",
    "    sprite = poke.json()['sprites']['front_shiny']\n",
    "    a_type = poke.json()['types'][0]['type']['name']\n",
    "    print(a_type)\n",
    "   \n",
    "    print(f\"\"\"{name} is a {a_type}' type of Pokemon. Defeating {name} will provide its opponent with {experience} base experience points if defeated.\n",
    "    Proceed with caution, {name} can {ability}! You can find {name}'s sprite image here: {sprite}\"\"\")\n",
    "    \n",
    "\n",
    "get_poke_info()\n",
    "    "
   ]
  },
  {
   "cell_type": "code",
   "execution_count": 57,
   "id": "796a2635",
   "metadata": {},
   "outputs": [
    {
     "name": "stdout",
     "output_type": "stream",
     "text": [
      "\n",
      "                                      ,'    _.----.        ____         ,'  _\\   ___    ___     ____\n",
      "_,-'       `.     |    |  /`.   \\,-'    |   \\  /   |   |    \\  |`.\n",
      "\\      __    \\    '-.  | /   `.  ___    |    \\/    |   '-.   \\ |  |\n",
      " \\.    \\ \\   |  __  |  |/    ,','_  `.  |          | __  |    \\|  |\n",
      "   \\    \\/   /,' _`.|      ,' / / / /   |          ,' _`.|     |  |\n",
      "    \\     ,-'/  /   \\    ,'   | \\/ / ,`.|         /  /   \\  |     |\n",
      "     \\    \\ |   \\_/  |   `-.  \\    `'  /|  |    ||   \\_/  | |\\    |\n",
      "      \\    \\ \\      /       `-.`.___,-' |  |\\  /| \\      /  | |   |\n",
      "       \\    \\ `.__,'|  |`-._    `|      |__| \\/ |  `.__,'|  | |   |\n",
      "        \\_.-'       |__|    `-._ |              '-.|     '-.| |   |\n",
      "                                `'                            '-._|\n",
      "                                \n",
      "    \n",
      "What pokemon would you like to search?\n",
      "pikachu\n",
      "electric\n",
      "Pikachu is a electric type of Pokemon. Defeating Pikachu will provide its opponent with 112 base experience points if defeated.\n",
      "    Proceed with caution, Pikachu can Static! You can find Pikachu's sprite image here: https://raw.githubusercontent.com/PokeAPI/sprites/master/sprites/pokemon/shiny/25.png\n"
     ]
    }
   ],
   "source": [
    "import requests, json\n",
    "\n",
    "\n",
    "def get_poke_info():\n",
    "    print(\"\"\"\n",
    "                                      ,'\\\n",
    "    _.----.        ____         ,'  _\\   ___    ___     ____\n",
    "_,-'       `.     |    |  /`.   \\,-'    |   \\  /   |   |    \\  |`.\n",
    "\\      __    \\    '-.  | /   `.  ___    |    \\/    |   '-.   \\ |  |\n",
    " \\.    \\ \\   |  __  |  |/    ,','_  `.  |          | __  |    \\|  |\n",
    "   \\    \\/   /,' _`.|      ,' / / / /   |          ,' _`.|     |  |\n",
    "    \\     ,-'/  /   \\    ,'   | \\/ / ,`.|         /  /   \\  |     |\n",
    "     \\    \\ |   \\_/  |   `-.  \\    `'  /|  |    ||   \\_/  | |\\    |\n",
    "      \\    \\ \\      /       `-.`.___,-' |  |\\  /| \\      /  | |   |\n",
    "       \\    \\ `.__,'|  |`-._    `|      |__| \\/ |  `.__,'|  | |   |\n",
    "        \\_.-'       |__|    `-._ |              '-.|     '-.| |   |\n",
    "                                `'                            '-._|\n",
    "                                \n",
    "    \"\"\")\n",
    "    name = input('What pokemon would you like to search?\\n').lower()\n",
    "    url = 'https://pokeapi.co/api/v2/pokemon/' + name\n",
    "    name = requests.get(url)\n",
    "    catch_em_all(name)\n",
    "    \n",
    "\n",
    "def catch_em_all(poke):\n",
    "    name = poke.json()['forms'][0]['name'].title()\n",
    "    ability = poke.json()['abilities'][0]['ability']['name'].title()\n",
    "    experience = poke.json()['base_experience']\n",
    "    sprite = poke.json()['sprites']['front_shiny']\n",
    "    a_type = poke.json()['types'][0]['type']['name']\n",
    "    print(a_type)\n",
    "   \n",
    "    print(f\"\"\"{name} is a {a_type} type of Pokemon. Defeating {name} will provide its opponent with {experience} base experience points if defeated.\n",
    "    Proceed with caution, {name} can {ability}! You can find {name}'s sprite image here: {sprite}\"\"\")\n",
    "    \n",
    "\n",
    "get_poke_info()"
   ]
  },
  {
   "cell_type": "code",
   "execution_count": 58,
   "id": "3781d514",
   "metadata": {},
   "outputs": [
    {
     "name": "stdout",
     "output_type": "stream",
     "text": [
      "\n",
      "                                      ,'    _.----.        ____         ,'  _\\   ___    ___     ____\n",
      "_,-'       `.     |    |  /`.   \\,-'    |   \\  /   |   |    \\  |`.\n",
      "\\      __    \\    '-.  | /   `.  ___    |    \\/    |   '-.   \\ |  |\n",
      " \\.    \\ \\   |  __  |  |/    ,','_  `.  |          | __  |    \\|  |\n",
      "   \\    \\/   /,' _`.|      ,' / / / /   |          ,' _`.|     |  |\n",
      "    \\     ,-'/  /   \\    ,'   | \\/ / ,`.|         /  /   \\  |     |\n",
      "     \\    \\ |   \\_/  |   `-.  \\    `'  /|  |    ||   \\_/  | |\\    |\n",
      "      \\    \\ \\      /       `-.`.___,-' |  |\\  /| \\      /  | |   |\n",
      "       \\    \\ `.__,'|  |`-._    `|      |__| \\/ |  `.__,'|  | |   |\n",
      "        \\_.-'       |__|    `-._ |              '-.|     '-.| |   |\n",
      "                                `'                            '-._|\n",
      "                                \n",
      "    \n",
      "What pokemon would you like to search?\n",
      "SNORLAX\n",
      "normal\n",
      "Snorlax is a normal type of Pokemon. Defeating Snorlax will provide its opponent with 189 base experience points if defeated.\n",
      "    Proceed with caution, Snorlax can Immunity! You can find Snorlax's sprite image here: https://raw.githubusercontent.com/PokeAPI/sprites/master/sprites/pokemon/shiny/143.png\n"
     ]
    }
   ],
   "source": [
    "import requests, json\n",
    "\n",
    "\n",
    "def get_poke_info():\n",
    "    print(\"\"\"\n",
    "                                      ,'\\\n",
    "    _.----.        ____         ,'  _\\   ___    ___     ____\n",
    "_,-'       `.     |    |  /`.   \\,-'    |   \\  /   |   |    \\  |`.\n",
    "\\      __    \\    '-.  | /   `.  ___    |    \\/    |   '-.   \\ |  |\n",
    " \\.    \\ \\   |  __  |  |/    ,','_  `.  |          | __  |    \\|  |\n",
    "   \\    \\/   /,' _`.|      ,' / / / /   |          ,' _`.|     |  |\n",
    "    \\     ,-'/  /   \\    ,'   | \\/ / ,`.|         /  /   \\  |     |\n",
    "     \\    \\ |   \\_/  |   `-.  \\    `'  /|  |    ||   \\_/  | |\\    |\n",
    "      \\    \\ \\      /       `-.`.___,-' |  |\\  /| \\      /  | |   |\n",
    "       \\    \\ `.__,'|  |`-._    `|      |__| \\/ |  `.__,'|  | |   |\n",
    "        \\_.-'       |__|    `-._ |              '-.|     '-.| |   |\n",
    "                                `'                            '-._|\n",
    "                                \n",
    "    \"\"\")\n",
    "    name = input('What pokemon would you like to search?\\n').lower()\n",
    "    url = 'https://pokeapi.co/api/v2/pokemon/' + name\n",
    "    name = requests.get(url)\n",
    "    catch_em_all(name)\n",
    "    \n",
    "\n",
    "def catch_em_all(poke):\n",
    "    name = poke.json()['forms'][0]['name'].title()\n",
    "    ability = poke.json()['abilities'][0]['ability']['name'].title()\n",
    "    experience = poke.json()['base_experience']\n",
    "    sprite = poke.json()['sprites']['front_shiny']\n",
    "    a_type = poke.json()['types'][0]['type']['name']\n",
    "    print(a_type)\n",
    "   \n",
    "    print(f\"\"\"{name} is a {a_type} type of Pokemon. Defeating {name} will provide its opponent with {experience} base experience points if defeated.\n",
    "    Proceed with caution, {name} can {ability}! You can find {name}'s sprite image here: {sprite}\"\"\")\n",
    "    \n",
    "\n",
    "get_poke_info()"
   ]
  },
  {
   "cell_type": "code",
   "execution_count": 59,
   "id": "5f4e5982",
   "metadata": {},
   "outputs": [
    {
     "name": "stdout",
     "output_type": "stream",
     "text": [
      "\n",
      "                                      ,'    _.----.        ____         ,'  _\\   ___    ___     ____\n",
      "_,-'       `.     |    |  /`.   \\,-'    |   \\  /   |   |    \\  |`.\n",
      "\\      __    \\    '-.  | /   `.  ___    |    \\/    |   '-.   \\ |  |\n",
      " \\.    \\ \\   |  __  |  |/    ,','_  `.  |          | __  |    \\|  |\n",
      "   \\    \\/   /,' _`.|      ,' / / / /   |          ,' _`.|     |  |\n",
      "    \\     ,-'/  /   \\    ,'   | \\/ / ,`.|         /  /   \\  |     |\n",
      "     \\    \\ |   \\_/  |   `-.  \\    `'  /|  |    ||   \\_/  | |\\    |\n",
      "      \\    \\ \\      /       `-.`.___,-' |  |\\  /| \\      /  | |   |\n",
      "       \\    \\ `.__,'|  |`-._    `|      |__| \\/ |  `.__,'|  | |   |\n",
      "        \\_.-'       |__|    `-._ |              '-.|     '-.| |   |\n",
      "                                `'                            '-._|\n",
      "                                \n",
      "    \n",
      "What pokemon would you like to search?\n",
      "mew\n",
      "psychic\n",
      "Mew is a psychic type of Pokemon. Defeating Mew will provide its opponent with 300 base experience points if defeated.\n",
      "    Proceed with caution, Mew can Synchronize! You can find Mew's sprite image here: https://raw.githubusercontent.com/PokeAPI/sprites/master/sprites/pokemon/shiny/151.png\n"
     ]
    }
   ],
   "source": [
    "import requests, json\n",
    "\n",
    "\n",
    "def get_poke_info():\n",
    "    print(\"\"\"\n",
    "                                      ,'\\\n",
    "    _.----.        ____         ,'  _\\   ___    ___     ____\n",
    "_,-'       `.     |    |  /`.   \\,-'    |   \\  /   |   |    \\  |`.\n",
    "\\      __    \\    '-.  | /   `.  ___    |    \\/    |   '-.   \\ |  |\n",
    " \\.    \\ \\   |  __  |  |/    ,','_  `.  |          | __  |    \\|  |\n",
    "   \\    \\/   /,' _`.|      ,' / / / /   |          ,' _`.|     |  |\n",
    "    \\     ,-'/  /   \\    ,'   | \\/ / ,`.|         /  /   \\  |     |\n",
    "     \\    \\ |   \\_/  |   `-.  \\    `'  /|  |    ||   \\_/  | |\\    |\n",
    "      \\    \\ \\      /       `-.`.___,-' |  |\\  /| \\      /  | |   |\n",
    "       \\    \\ `.__,'|  |`-._    `|      |__| \\/ |  `.__,'|  | |   |\n",
    "        \\_.-'       |__|    `-._ |              '-.|     '-.| |   |\n",
    "                                `'                            '-._|\n",
    "                                \n",
    "    \"\"\")\n",
    "    name = input('What pokemon would you like to search?\\n').lower()\n",
    "    url = 'https://pokeapi.co/api/v2/pokemon/' + name\n",
    "    name = requests.get(url)\n",
    "    catch_em_all(name)\n",
    "    \n",
    "\n",
    "def catch_em_all(poke):\n",
    "    name = poke.json()['forms'][0]['name'].title()\n",
    "    ability = poke.json()['abilities'][0]['ability']['name'].title()\n",
    "    experience = poke.json()['base_experience']\n",
    "    sprite = poke.json()['sprites']['front_shiny']\n",
    "    a_type = poke.json()['types'][0]['type']['name']\n",
    "    print(a_type)\n",
    "   \n",
    "    print(f\"\"\"{name} is a {a_type} type of Pokemon. Defeating {name} will provide its opponent with {experience} base experience points if defeated.\n",
    "    Proceed with caution, {name} can {ability}! You can find {name}'s sprite image here: {sprite}\"\"\")\n",
    "    \n",
    "\n",
    "get_poke_info()"
   ]
  },
  {
   "cell_type": "code",
   "execution_count": 60,
   "id": "69be470c",
   "metadata": {},
   "outputs": [
    {
     "name": "stdout",
     "output_type": "stream",
     "text": [
      "\n",
      "                                      ,'    _.----.        ____         ,'  _\\   ___    ___     ____\n",
      "_,-'       `.     |    |  /`.   \\,-'    |   \\  /   |   |    \\  |`.\n",
      "\\      __    \\    '-.  | /   `.  ___    |    \\/    |   '-.   \\ |  |\n",
      " \\.    \\ \\   |  __  |  |/    ,','_  `.  |          | __  |    \\|  |\n",
      "   \\    \\/   /,' _`.|      ,' / / / /   |          ,' _`.|     |  |\n",
      "    \\     ,-'/  /   \\    ,'   | \\/ / ,`.|         /  /   \\  |     |\n",
      "     \\    \\ |   \\_/  |   `-.  \\    `'  /|  |    ||   \\_/  | |\\    |\n",
      "      \\    \\ \\      /       `-.`.___,-' |  |\\  /| \\      /  | |   |\n",
      "       \\    \\ `.__,'|  |`-._    `|      |__| \\/ |  `.__,'|  | |   |\n",
      "        \\_.-'       |__|    `-._ |              '-.|     '-.| |   |\n",
      "                                `'                            '-._|\n",
      "                                \n",
      "    \n",
      "What pokemon would you like to search?\n",
      "squirtle\n",
      "water\n",
      "Squirtle is a water type of Pokemon. Defeating Squirtle will provide its opponent with 63 base experience points if defeated.\n",
      "    Proceed with caution, Squirtle can Torrent! You can find Squirtle's sprite image here: https://raw.githubusercontent.com/PokeAPI/sprites/master/sprites/pokemon/shiny/7.png\n"
     ]
    }
   ],
   "source": [
    "import requests, json\n",
    "\n",
    "\n",
    "def get_poke_info():\n",
    "    print(\"\"\"\n",
    "                                      ,'\\\n",
    "    _.----.        ____         ,'  _\\   ___    ___     ____\n",
    "_,-'       `.     |    |  /`.   \\,-'    |   \\  /   |   |    \\  |`.\n",
    "\\      __    \\    '-.  | /   `.  ___    |    \\/    |   '-.   \\ |  |\n",
    " \\.    \\ \\   |  __  |  |/    ,','_  `.  |          | __  |    \\|  |\n",
    "   \\    \\/   /,' _`.|      ,' / / / /   |          ,' _`.|     |  |\n",
    "    \\     ,-'/  /   \\    ,'   | \\/ / ,`.|         /  /   \\  |     |\n",
    "     \\    \\ |   \\_/  |   `-.  \\    `'  /|  |    ||   \\_/  | |\\    |\n",
    "      \\    \\ \\      /       `-.`.___,-' |  |\\  /| \\      /  | |   |\n",
    "       \\    \\ `.__,'|  |`-._    `|      |__| \\/ |  `.__,'|  | |   |\n",
    "        \\_.-'       |__|    `-._ |              '-.|     '-.| |   |\n",
    "                                `'                            '-._|\n",
    "                                \n",
    "    \"\"\")\n",
    "    name = input('What pokemon would you like to search?\\n').lower()\n",
    "    url = 'https://pokeapi.co/api/v2/pokemon/' + name\n",
    "    name = requests.get(url)\n",
    "    catch_em_all(name)\n",
    "    \n",
    "\n",
    "def catch_em_all(poke):\n",
    "    name = poke.json()['forms'][0]['name'].title()\n",
    "    ability = poke.json()['abilities'][0]['ability']['name'].title()\n",
    "    experience = poke.json()['base_experience']\n",
    "    sprite = poke.json()['sprites']['front_shiny']\n",
    "    a_type = poke.json()['types'][0]['type']['name']\n",
    "    print(a_type)\n",
    "   \n",
    "    print(f\"\"\"{name} is a {a_type} type of Pokemon. Defeating {name} will provide its opponent with {experience} base experience points if defeated.\n",
    "    Proceed with caution, {name} can {ability}! You can find {name}'s sprite image here: {sprite}\"\"\")\n",
    "    \n",
    "\n",
    "get_poke_info()"
   ]
  }
 ],
 "metadata": {
  "kernelspec": {
   "display_name": "Python 3 (ipykernel)",
   "language": "python",
   "name": "python3"
  },
  "language_info": {
   "codemirror_mode": {
    "name": "ipython",
    "version": 3
   },
   "file_extension": ".py",
   "mimetype": "text/x-python",
   "name": "python",
   "nbconvert_exporter": "python",
   "pygments_lexer": "ipython3",
   "version": "3.8.8"
  }
 },
 "nbformat": 4,
 "nbformat_minor": 5
}
